{
 "cells": [
  {
   "cell_type": "markdown",
   "metadata": {},
   "source": [
    "# Pythonに触れてみよう\n",
    "Pythonは使いやすい、拡張が多い、その他にも現代のコンピュータ処理において有利性を持つ言語です。研究や開発レベルでなく、学生生活における計算や作業程度にも大いに役立つこと間違いなしなのでその基本を学んでみましょう。"
   ]
  },
  {
   "cell_type": "markdown",
   "metadata": {},
   "source": [
    "## 目次\n",
    "1. [基本構文](#Pythonの基本構文)\n",
    "2. [データの型](#データの型)\n",
    "3. [数学的演算の基本](#数学的演算の基本)\n",
    "4. [配列](#配列)\n",
    "5. 条件分岐\n",
    "6. 繰り返し処理\n",
    "7. 関数\n",
    "8. 頻出関数・記法\n",
    "9. 拡張の利用\n",
    "\n",
    "これ以降は応用にて\n",
    "10. クラス\n",
    "11. 変数理論\n",
    "\n",
    "Hの付いているものは実用<br>\n",
    "H-1. ハードウェア・ソフトウェア通信<br>\n",
    "H-2. WEBアプリケーション<br>\n",
    "H-3. インタラクティブユーズ<br>\n",
    "\n",
    "Mの付いているものは数学的<br>\n",
    "M-1. Numpyと応用数学<br>\n",
    "M-2. MLとDLに取り掛かるには<br>"
   ]
  },
  {
   "cell_type": "markdown",
   "metadata": {},
   "source": [
    "## Hello World!!\n",
    "正直これはPythonでやる必要はまったくありませんが、ほかの言語と比較した時の優位性や簡単さを見るために試してみましょう。\n",
    "\n",
    "例えばC言語ではHello World!をするだけにもクラスを定義、main関数を定義してコンパイルしなければなりません。なぜこんな簡単な処理にそんな面倒な手順を踏まなければならないのか。Pythonでは1行です。"
   ]
  },
  {
   "cell_type": "code",
   "execution_count": 1,
   "metadata": {},
   "outputs": [
    {
     "name": "stdout",
     "output_type": "stream",
     "text": [
      "Hello World!\n"
     ]
    }
   ],
   "source": [
    "print(\"Hello World!\")"
   ]
  },
  {
   "cell_type": "markdown",
   "metadata": {},
   "source": [
    "## 何故Pythonなのか\n",
    "簡単だからです\n",
    "\n",
    "- PROS\n",
    "    - 実装が容易\n",
    "    - 拡張の幅が広い\n",
    "    - 活用の幅が広い (競技プロ、小規模アプリ、小規模実装)\n",
    "- CONS\n",
    "    - 実行速度が遅い\n",
    "    - あくまで活用が広く浅くの言語である\n",
    "    \n",
    "当然、本質の理解がプログラミングには大切なので簡単というものは良い点だけではありません。<br>\n",
    "が、自分は本質の理解を推したいので少し難しいと感じる方も多いと思います。"
   ]
  },
  {
   "cell_type": "markdown",
   "metadata": {},
   "source": [
    "-----\n",
    "-----"
   ]
  },
  {
   "cell_type": "markdown",
   "metadata": {},
   "source": [
    "## Pythonの基本構文\n",
    "Pythonは一般的に言われる**整理されたプログラムの書き方**がそのまま基本構文となっています。\n",
    "\n",
    "### 1. コードの区切り\n",
    "Pythonは**改行コード**にて区切りを判定します。つまり、他の言語のように「; (セミコロン)」を使用して1行に全てを実装するようなことはできません。"
   ]
  },
  {
   "cell_type": "code",
   "execution_count": 3,
   "metadata": {},
   "outputs": [],
   "source": [
    "a = 1 #改行することで区切る\n",
    "b = 2\n",
    "\n",
    "# Pythonでは以下の記述は動作しない\n",
    "# a = 1; b = 2"
   ]
  },
  {
   "cell_type": "markdown",
   "metadata": {},
   "source": [
    "### 2. ブロック管理\n",
    "ブロックとは、ifやfor(後述)などによって分断されている特定の実行範囲を示す言葉です。Pythonにおいてはブロック管理も特殊です。\n",
    "\n",
    "Pythonにおいては**インデント**によってコードブロックを管理します。インデントは**Tabキー**によって入力可能です。\n",
    "\n",
    "インデントはコードを整理するために提供されるスペース数個分の固定空間です。Pythonではこの機能がそのままブロック管理に使用されています。これは同時に**無駄なインデントを使用することができない**ことを意味します。\n",
    "\n",
    "また、Pythonにおけるブロックは他言語におけるスコープの概念に近く、ブロック内で新しく定義された関数は上層ブロックで使用できません。"
   ]
  },
  {
   "cell_type": "code",
   "execution_count": 8,
   "metadata": {},
   "outputs": [],
   "source": [
    "import random;\n",
    "\n",
    "def kansuu():\n",
    "    #ここはfunction: kansuuのブロック\n",
    "    a = 100 * random.random()\n",
    "    if a > 50:\n",
    "        #ここはifのブロック\n",
    "        b = 0\n",
    "        for sc in range(7):\n",
    "            #ここはforのブロック\n",
    "            b+=1\n",
    "    else:\n",
    "        #ここはelseのブロック\n",
    "        b = 10\n",
    "    print(b) #bは第1層では未定義"
   ]
  },
  {
   "cell_type": "markdown",
   "metadata": {},
   "source": [
    "### 3. 変数の制約\n",
    "変数を定義できなければプログラミングは始まりません\n",
    "\n",
    "まずは変数名のルールを覚えましょう\n",
    "* 英字から始まる\n",
    "* 英字、数字またはアンダースコアのみを含む\n",
    "* 関数などと名前が重複していない\n",
    "* ***CaSE_SenSiTIvE***"
   ]
  },
  {
   "cell_type": "code",
   "execution_count": 8,
   "metadata": {},
   "outputs": [],
   "source": [
    "a = 1\n",
    "abc123 = 1\n",
    "AaB_123 = 1\n",
    "_abc = 1\n",
    "\n",
    "#間違った例\n",
    "#へんすう = 1\n",
    "#123_abc = 1"
   ]
  },
  {
   "cell_type": "markdown",
   "metadata": {},
   "source": [
    "#### CaSE_SenSiTIvEとは？\n",
    "Case Sensitiveとは**大文字と小文字が区別される**ことです。"
   ]
  },
  {
   "cell_type": "code",
   "execution_count": 9,
   "metadata": {},
   "outputs": [],
   "source": [
    "a = 1\n",
    "A = 2\n",
    "#aは小文字、Aは大文字なのでこの二つは異なる変数である"
   ]
  },
  {
   "cell_type": "markdown",
   "metadata": {},
   "source": [
    "### 4. コメント文\n",
    "Pythonでは\n",
    "- #が先頭に存在する行は無視されます\n",
    "- '''(シングルクオーテーション3つ)で囲われた範囲は全て無視されます\n"
   ]
  },
  {
   "cell_type": "code",
   "execution_count": 13,
   "metadata": {},
   "outputs": [
    {
     "data": {
      "text/plain": [
       "0"
      ]
     },
     "execution_count": 13,
     "metadata": {},
     "output_type": "execute_result"
    }
   ],
   "source": [
    "#これはコメントです。実行時には無視されます\n",
    "#シャープから始まる行は実行時に無視されます。記号がついている行のみ無視であることにご注意ください。\n",
    "\n",
    "'''\n",
    "これはコメントです。実行時には無視されます。\n",
    "\n",
    "クオーテーション3つで囲うとその内部にある部分すべては無視されます。\n",
    "'''\n",
    "\n",
    "0"
   ]
  },
  {
   "cell_type": "markdown",
   "metadata": {},
   "source": [
    "-----\n",
    "-----"
   ]
  },
  {
   "cell_type": "markdown",
   "metadata": {},
   "source": [
    "## データの型\n",
    "### データの型とは\n",
    "\n",
    "### Pythonにおいて\n",
    "Pythonでは表面的にはデータの型が存在しないように見えますが、当たり前のように存在しています。ここでは基本的なプログラミングを行う上で覚えておきたい型を説明します。\n",
    "\n",
    "1. **整数(integer)/実数(float)**<Br>\n",
    "数学の基礎となる数字です。Pythonにおいては数値は適切な型に自動変換されます。例えば、整数3を整数5で割った場合自動的に実数0.6となります。(虚数等特殊な場合を除く)"
   ]
  },
  {
   "cell_type": "code",
   "execution_count": 15,
   "metadata": {},
   "outputs": [
    {
     "name": "stdout",
     "output_type": "stream",
     "text": [
      "<class 'int'>\n",
      "<class 'float'>\n"
     ]
    }
   ],
   "source": [
    "a = 3\n",
    "b = 5\n",
    "\n",
    "print(type(a))\n",
    "print(type(a/b))"
   ]
  },
  {
   "cell_type": "markdown",
   "metadata": {},
   "source": [
    "2. **論理(Boolean)**<br>\n",
    "TrueまたはFalse、つまりは正負です。Pythonにおいては0または1と互換があります。条件(Condition)にて判定に求められる型となります。また、PythonはCase Sensitiveである故、True Falseと先頭だけを大文字で書かなければエラーを返されます。"
   ]
  },
  {
   "cell_type": "code",
   "execution_count": 19,
   "metadata": {},
   "outputs": [
    {
     "name": "stdout",
     "output_type": "stream",
     "text": [
      "<class 'bool'>\n",
      "True\n"
     ]
    }
   ],
   "source": [
    "a = 1 == 1 #True (Boolean)\n",
    "b = 1 != 1 #False (Boolean)\n",
    "\n",
    "c = 0 #0 (Integer)\n",
    "d = 1 #1 (Integer)\n",
    "\n",
    "if d:\n",
    "    print(type(a))\n",
    "    print(a==d) #True == 1"
   ]
  },
  {
   "cell_type": "markdown",
   "metadata": {},
   "source": [
    "3. **配列(List)**<br>\n",
    "配列は要素が羅列された型です。Pythonにおいては様々な型のデータを混ぜて格納することが可能です。"
   ]
  },
  {
   "cell_type": "code",
   "execution_count": 20,
   "metadata": {},
   "outputs": [],
   "source": [
    "a = [1,2,3] #整数のみのリスト\n",
    "b = [1,[2,3],\"123\",True] #ごちゃまぜのリスト"
   ]
  },
  {
   "cell_type": "markdown",
   "metadata": {},
   "source": [
    "4. **文字列(String)**<br>\n",
    "文字列とは文字が羅列された型です。基本的な扱いは配列と同等ですが、同格ではありません。全ての入出力の基本となるのがこの文字列型でもあります。\n",
    "\n",
    "    文字の列を'(クオーテーション)または\"(ダブルクオーテーション)で囲う事で文字列として扱われます。"
   ]
  },
  {
   "cell_type": "code",
   "execution_count": 22,
   "metadata": {},
   "outputs": [
    {
     "data": {
      "text/plain": [
       "'これは文字列です'"
      ]
     },
     "execution_count": 22,
     "metadata": {},
     "output_type": "execute_result"
    }
   ],
   "source": [
    "'これは文字列です'"
   ]
  },
  {
   "cell_type": "markdown",
   "metadata": {},
   "source": [
    "その他配列の類似型などは[第4章配列]にて解説します。"
   ]
  },
  {
   "cell_type": "markdown",
   "metadata": {},
   "source": [
    "---\n",
    "---"
   ]
  },
  {
   "cell_type": "markdown",
   "metadata": {},
   "source": [
    "## 数学的演算の基本\n",
    "演算の記号はあまり他の言語と差異を持ちません。\n",
    "\n",
    "### 1. 基本演算子\n",
    "小学校中学校で習う基本的演算です。"
   ]
  },
  {
   "cell_type": "code",
   "execution_count": 5,
   "metadata": {},
   "outputs": [
    {
     "name": "stdout",
     "output_type": "stream",
     "text": [
      "[5, -1, 6, 0.6666666666666666, 1, 8]\n"
     ]
    }
   ],
   "source": [
    "a = 2\n",
    "b = 3\n",
    "\n",
    "c = a + b #加算\n",
    "d = a - b #減算\n",
    "e = a * b #乗算\n",
    "f = a / b #除算\n",
    "g = b % a #余剰\n",
    "h = a ** b #累乗\n",
    "i = a // b #商\n",
    "\n",
    "print([c,d,e,f,g,h])"
   ]
  },
  {
   "cell_type": "markdown",
   "metadata": {},
   "source": [
    "### 2. ビット演算子\n",
    "デジタルらしく、ビットごとに処理を行う場合の演算子です。"
   ]
  },
  {
   "cell_type": "code",
   "execution_count": 27,
   "metadata": {},
   "outputs": [
    {
     "name": "stdout",
     "output_type": "stream",
     "text": [
      "[138, 255, 117, -219, 872]\n"
     ]
    }
   ],
   "source": [
    "a = 0b11011010\n",
    "b = 0b10101111\n",
    "\n",
    "c = a & b #AND\n",
    "d = a | b #OR\n",
    "e = a ^ b #XOR \n",
    "f = ~ a #NOT\n",
    "g = a<<0b10 #SHIFT\n",
    "\n",
    "print([c,d,e,f,g])"
   ]
  },
  {
   "cell_type": "markdown",
   "metadata": {},
   "source": [
    "### 3. 論理演算子\n",
    "基本的には上のビット演算子と同じです。論理(Boolean)にて説明した事に習い、条件(Condition)内で判定に使用されます。但し、使い方によって論理を返さない場合があるので注意しましょう。詳しい話は[第5章条件分岐]にて解説します。"
   ]
  },
  {
   "cell_type": "code",
   "execution_count": 32,
   "metadata": {},
   "outputs": [
    {
     "name": "stdout",
     "output_type": "stream",
     "text": [
      "[False, True, False]\n",
      "b\n",
      "55\n"
     ]
    }
   ],
   "source": [
    "a = True\n",
    "b = False\n",
    "\n",
    "c = a and b #共にTrueであればTrue、それ以外はFalse\n",
    "d = a or b #片方でもTrueであればTrue、共にFalseでFalse\n",
    "e = not a #TrueはFalseに、FalseはTrueに\n",
    "\n",
    "print([c,d,e])\n",
    "\n",
    "#以下は論理を返さない例です。\n",
    "#完全に想定されない結果ですが、エラーを吐きません\n",
    "print(\"a\" and \"b\")\n",
    "print(55 or 123)"
   ]
  },
  {
   "cell_type": "markdown",
   "metadata": {},
   "source": [
    "#### 余談\n",
    "Pythonでは以下の方法で無限を定義できます。数学の問題を解くのに容赦なく使いましょう。"
   ]
  },
  {
   "cell_type": "code",
   "execution_count": 4,
   "metadata": {},
   "outputs": [
    {
     "name": "stdout",
     "output_type": "stream",
     "text": [
      "inf\n",
      "-inf\n"
     ]
    }
   ],
   "source": [
    "u_inf = float(\"inf\")\n",
    "l_inf = float(\"-inf\")\n",
    "print(u_inf)\n",
    "print(l_inf)"
   ]
  },
  {
   "cell_type": "markdown",
   "metadata": {},
   "source": [
    "-----\n",
    "-----"
   ]
  },
  {
   "cell_type": "markdown",
   "metadata": {},
   "source": [
    "## 配列\n",
    "### 1. コレクション型\n",
    "Pythonには配列のような動作をしているデータ型が多く存在しています。しかし、それらは特定の作業に対して最高の効率を持つように組まれており、覚えておけば上手に活用することが可能です。\n",
    "- 配列(List)\n",
    "    - 上記でも説明した最も一般的な配列です\n",
    "    1. 変更可能\n",
    "    2. 同じ要素を持つことができる\n",
    "    3. []で囲われています\n",
    "- 文字列(String)\n",
    "    - 文字のみが配置されている一般的な配列です\n",
    "    1. 変更不可能\n",
    "    2. 文字列のみで構成\n",
    "    3. ''または\"\"で囲われています\n",
    "- 辞書(Dict)\n",
    "    - 特定のキーに特定の要素を関連付ける配列です\n",
    "    1. 変更可能\n",
    "    2. キーと要素がそれぞれに必要\n",
    "    3. キーには文字列のみが使用できる\n",
    "    4. {}で囲われています\n",
    "- タプル(Tuple)\n",
    "    - 特定要件の為に制限を設けられた配列です\n",
    "    1. 変更不可能\n",
    "    2. その他は配列と同じ\n",
    "    3. ()で囲われています\n",
    "- 集合(Set)\n",
    "    - 数学的集合です\n",
    "    1. 変更可能\n",
    "    2. 同じ要素を持つことができない\n",
    "    3. 専用の数学演算子が用意されている\n",
    "    4. {}で囲われています\n",
    "- レンジ(Range)\n",
    "    - 数字の羅列です。Range()関数によって独自に生成されますが、Listとは異なる型なので注意\n",
    "    \n",
    "この章においてはList、String、Dict、Tupleについて扱います"
   ]
  },
  {
   "cell_type": "code",
   "execution_count": 33,
   "metadata": {},
   "outputs": [
    {
     "name": "stdout",
     "output_type": "stream",
     "text": [
      "[1, 2, 1, 2, 3, 4, 5]\n",
      "{'hikkaido': 1, 'tokyo': 23}\n",
      "(1, 2, 1, 2, 3, 4, 5)\n",
      "{1, 2, 3, 4, 5}\n",
      "range(0, 5)\n"
     ]
    }
   ],
   "source": [
    "list_a = [1,2,1,2,3,4,5]\n",
    "dict_b = {\"hikkaido\": 1, \"tokyo\": 23}\n",
    "tuple_c = (1,2,1,2,3,4,5)\n",
    "set_d = {1,2,1,2,3,4,5} #同じ要素を持てないので1と2が消える\n",
    "range_e = range(5)\n",
    "\n",
    "print(list_a)\n",
    "print(dict_b)\n",
    "print(tuple_c)\n",
    "print(set_d)\n",
    "print(range_e)"
   ]
  },
  {
   "cell_type": "markdown",
   "metadata": {},
   "source": [
    "### 2. 配列の操作\n",
    "Pythonにおける配列操作は決して難しいものではありません。順番を追って解説します。\n",
    "\n",
    "#### 2-1. インデックス\n",
    "辞書型を除いたコレクション型の変数においては1番目に0、2番目に1…といった流れでインデックス(通し番号)が振られています<br>\n",
    "インデックスを使用することで簡単に格納された要素を取得することができます"
   ]
  },
  {
   "cell_type": "code",
   "execution_count": 1,
   "metadata": {},
   "outputs": [
    {
     "name": "stdout",
     "output_type": "stream",
     "text": [
      "h\n",
      "1\n"
     ]
    }
   ],
   "source": [
    "#例2-1: インデックス\n",
    "\n",
    "str_a = \"python\"\n",
    "list_a = [1,2,3,4,5,6]\n",
    "\n",
    "print(str_a[3]) #4番目の要素を取り出す\n",
    "print(list_a[0]) #1番目の要素を取り出す"
   ]
  },
  {
   "cell_type": "markdown",
   "metadata": {},
   "source": [
    "#### 2-2. スライス\n",
    "スライスとはインデックスを使用してコレクション型変数の特定の範囲を切り出す機能です\n",
    "```py\n",
    "str_a = \"python\"\n",
    "slice_b = str_a[1:3]\n",
    "```\n",
    "このように[A:B]のような形で指定し、A以上B未満の要素が全て返されます"
   ]
  },
  {
   "cell_type": "code",
   "execution_count": 2,
   "metadata": {},
   "outputs": [
    {
     "name": "stdout",
     "output_type": "stream",
     "text": [
      "yt\n",
      "[1, 2, 3, 4]\n"
     ]
    }
   ],
   "source": [
    "#例2-2: スライス\n",
    "\n",
    "str_a = \"python\"\n",
    "list_a = [1,2,3,4,5,6]\n",
    "\n",
    "print(str_a[1:3]) #1-2番目の要素を取り出す\n",
    "print(list_a[:4]) #4番目までの要素を取り出す"
   ]
  },
  {
   "cell_type": "markdown",
   "metadata": {},
   "source": [
    "#### 2-3. 配列操作\n",
    "配列を操作する上で、要素を足したり検索したりする機能を把握することは必須となります。ここではそのような要素の操作を覚えましょう。**これらの操作は文字列には適応できません**\n",
    "\n",
    "出てくるもの\n",
    "```py\n",
    "list.append()\n",
    "list.extend()\n",
    "list.insert()\n",
    "list.remove()\n",
    "list.pop()\n",
    "list.index()\n",
    "sorted(list)\n",
    "list.sort()\n",
    "list.count()\n",
    "```"
   ]
  },
  {
   "cell_type": "code",
   "execution_count": 5,
   "metadata": {},
   "outputs": [
    {
     "name": "stdout",
     "output_type": "stream",
     "text": [
      "[1, 2, 3, 4, 5]\n"
     ]
    }
   ],
   "source": [
    "'''\n",
    "collection.append(anything) - 単追加\n",
    "\n",
    "配列(collection)に対して指定した値(anything)が末尾に追加されます\n",
    "'''\n",
    "list_a = [1,2,3,4]\n",
    "list_a.append(5)\n",
    "print(list_a)"
   ]
  },
  {
   "cell_type": "code",
   "execution_count": 6,
   "metadata": {},
   "outputs": [
    {
     "name": "stdout",
     "output_type": "stream",
     "text": [
      "[1, 2, 3, 4, 5, 6]\n"
     ]
    }
   ],
   "source": [
    "'''\n",
    "collection1.extend(collection2) - 延長\n",
    "\n",
    "配列(collection1)の末尾に配列(collection2)が追加され延長されます\n",
    "'''\n",
    "list_a=[1,2,3,4]\n",
    "list_a.extend([5,6])\n",
    "print(list_a)"
   ]
  },
  {
   "cell_type": "code",
   "execution_count": 8,
   "metadata": {},
   "outputs": [
    {
     "name": "stdout",
     "output_type": "stream",
     "text": [
      "[1, 2, 3, 4]\n"
     ]
    }
   ],
   "source": [
    "'''\n",
    "collection.insert(index,anything) - 挿入\n",
    "\n",
    "配列(collection)の指定したインデックス(index)の後に値(anything)が追加されます\n",
    "'''\n",
    "list_a=[1,2,4]\n",
    "list_a.insert(2,3)\n",
    "print(list_a)"
   ]
  },
  {
   "cell_type": "code",
   "execution_count": 10,
   "metadata": {},
   "outputs": [
    {
     "name": "stdout",
     "output_type": "stream",
     "text": [
      "[1, 1, 2, 3, 3]\n"
     ]
    }
   ],
   "source": [
    "'''\n",
    "collection.remove(anything) - 値指定による単削除\n",
    "\n",
    "配列(collection)内に存在している特定の値(anything)を持つ要素を1つ削除します\n",
    "'''\n",
    "list_a=[1,1,2,2,3,3]\n",
    "list_a.remove(2)\n",
    "print(list_a)"
   ]
  },
  {
   "cell_type": "code",
   "execution_count": 11,
   "metadata": {},
   "outputs": [
    {
     "name": "stdout",
     "output_type": "stream",
     "text": [
      "3\n"
     ]
    }
   ],
   "source": [
    "'''\n",
    "anything = collection.pop(index) - インデックスによる取り出しと削除\n",
    "\n",
    "配列(collection)内のindex番目の要素(anything)を削除し、取り出します\n",
    "'''\n",
    "list_a=[1,2,3,4]\n",
    "num_b = list_a.pop(2)\n",
    "print(num_b)"
   ]
  },
  {
   "cell_type": "code",
   "execution_count": 13,
   "metadata": {},
   "outputs": [
    {
     "name": "stdout",
     "output_type": "stream",
     "text": [
      "1\n"
     ]
    }
   ],
   "source": [
    "'''\n",
    "index = collection.index(anything) - インデックスの検索\n",
    "\n",
    "配列(collection)内に値(anything)が存在すれば、初めにヒットした結果(index)をリターンします\n",
    "検索にヒットしなかった場合、エラーが返されます\n",
    "'''\n",
    "list_a=[1,2,3,4,3,2,1]\n",
    "num_b=list_a.index(2)\n",
    "print(num_b)"
   ]
  },
  {
   "cell_type": "code",
   "execution_count": 14,
   "metadata": {},
   "outputs": [
    {
     "name": "stdout",
     "output_type": "stream",
     "text": [
      "[3, 5, 2, 1, 4]\n",
      "[1, 2, 3, 4, 5]\n",
      "[1, 2, 3, 4, 5]\n"
     ]
    }
   ],
   "source": [
    "'''\n",
    "collection2 = sorted(collection1) - 非破壊的ソート\n",
    "collection.sort() - 破壊的ソート\n",
    "\n",
    "配列(collection)をソートします\n",
    "sortedにおいては、collection1をソートしたものが新しい変数(collection2)へ格納されます\n",
    "'''\n",
    "list_a=[3,5,2,1,4]\n",
    "list_b=sorted(list_a)\n",
    "print(list_a) #ソートされていない\n",
    "print(list_b) #ソートされている\n",
    "list_a.sort()\n",
    "print(list_a) #ソートされている"
   ]
  },
  {
   "cell_type": "code",
   "execution_count": 15,
   "metadata": {},
   "outputs": [
    {
     "name": "stdout",
     "output_type": "stream",
     "text": [
      "3\n"
     ]
    }
   ],
   "source": [
    "'''\n",
    "collection.count(anything) - 重複要素のカウント\n",
    "\n",
    "配列(collection)に含まれている特定の値(anything)を含む要素の数をカウントします\n",
    "'''\n",
    "list_a=[1,2,2,3,3,3,4,4,4,4]\n",
    "print(list_a.count(3))"
   ]
  },
  {
   "cell_type": "markdown",
   "metadata": {},
   "source": [
    "#### 演習問題\n",
    "1.\n",
    "0~9の整数要素から成り立つ配列list_aは必ず0~9までの全ての整数を1つずつ含まなければならない\n",
    "```py\n",
    "list_a = [7,3,4,1,9,5,0,3,2,6]\n",
    "```\n",
    "に対して**重複している要素を削除**し、**不足している要素を先頭へ追加**せよ\n",
    "\n",
    "2.\n"
   ]
  },
  {
   "cell_type": "markdown",
   "metadata": {},
   "source": [
    "#### 2-4. 文字列操作\n",
    "Pythonの文字列は変更不可能なので、関係するコマンドを把握することはとても重要です。文字列は様々な状況で扱うこととなるので、できる限り全ての操作をマスターしましょう\n",
    "```py\n",
    "\n",
    "```"
   ]
  },
  {
   "cell_type": "code",
   "execution_count": null,
   "metadata": {},
   "outputs": [],
   "source": []
  },
  {
   "cell_type": "markdown",
   "metadata": {},
   "source": [
    "-----\n",
    "-----"
   ]
  },
  {
   "cell_type": "markdown",
   "metadata": {},
   "source": [
    "## 条件分岐\n",
    "プログラムにおいて条件分岐は最も重要なパートになる事間違いなしです。ここではPythonでの条件分岐の使用法を教えます。\n",
    "\n",
    "まずは最初に言及した***インデント***の使用方法について押さえましょう。"
   ]
  },
  {
   "cell_type": "code",
   "execution_count": null,
   "metadata": {},
   "outputs": [],
   "source": [
    "#ここはif文の外\n",
    "if True:\n",
    "    #ここは1段落目\n",
    "    if True:\n",
    "        #ここは2段落目\n",
    "        if True:\n",
    "            #ここは3段落目\n",
    "        #ここは2段落目\n",
    "    #\n",
    "    #ここは1段落目\n",
    "    #\n",
    "#ここはif文の外"
   ]
  },
  {
   "cell_type": "markdown",
   "metadata": {},
   "source": [
    "このようにインデントの入力された数によって段落が判断されます。***絶対に間違えないように注意しましょう***\n",
    "\n",
    "次に本題の条件分岐について説明します。"
   ]
  },
  {
   "cell_type": "code",
   "execution_count": 2,
   "metadata": {},
   "outputs": [
    {
     "name": "stdout",
     "output_type": "stream",
     "text": [
      "aを満たしています\n"
     ]
    }
   ],
   "source": [
    "'''\n",
    "if (条件):\n",
    "    (コード)\n",
    "    \n",
    "(条件): Bool: 内部の実行に対する条件\n",
    "(コード): 条件を満たした際に実行したい内容\n",
    "'''\n",
    "a = True\n",
    "\n",
    "if a:\n",
    "    print(\"aを満たしています\")"
   ]
  },
  {
   "cell_type": "markdown",
   "metadata": {},
   "source": [
    "以上のように簡単に条件分岐を書くことができます。\n",
    "\n",
    "次に覚えなければならないのは***満たしていないとき***の考え方です。ifによって該当した部分もありますが、当然該当しない可能性もあります。次はその該当しなかった部分に対して処理する方法を学びましょう。"
   ]
  },
  {
   "cell_type": "code",
   "execution_count": 4,
   "metadata": {},
   "outputs": [
    {
     "name": "stdout",
     "output_type": "stream",
     "text": [
      "aはAに入っています\n"
     ]
    }
   ],
   "source": [
    "'''\n",
    "if (条件1):\n",
    "    ここは条件1を満たす場合に実行\n",
    "    if (条件2):\n",
    "        ここは条件1も条件2も満たす場合に実行\n",
    "elif (条件2):\n",
    "    ここは条件1を満たさず、条件2を満たす場合に実行\n",
    "else:\n",
    "    ここは条件1も条件2も満たさない場合に実行\n",
    "'''\n",
    "\n",
    "a = [1,2,3]\n",
    "b = [2,3]\n",
    "c = [1,3,2]\n",
    "A = 1\n",
    "B = 2\n",
    "C = 3\n",
    "\n",
    "if A in b:\n",
    "    print(\"bはAに入っています\")\n",
    "    if A in a:\n",
    "        print(\"aもbもAに入っています\")\n",
    "elif A in a:\n",
    "    print(\"aはAに入っています\")\n",
    "else:\n",
    "    print(\"aもbもAには入っていません\")"
   ]
  },
  {
   "cell_type": "markdown",
   "metadata": {},
   "source": [
    "次に教えるのは必要になるであろう***条件(Boolean)***の書き方です。様々な活用方法を見ていきましょう。"
   ]
  },
  {
   "cell_type": "code",
   "execution_count": 5,
   "metadata": {},
   "outputs": [
    {
     "name": "stdout",
     "output_type": "stream",
     "text": [
      "True\n",
      "True\n",
      "False\n",
      "True\n",
      "False\n",
      "False\n",
      "0\n",
      "1\n",
      "False\n",
      "True\n"
     ]
    }
   ],
   "source": [
    "'''\n",
    "Booleanはデータの形の一つで、真または否を示します。\n",
    "\n",
    "比較演算子、大なり小なりなどを意味します。Pythonにおいては非数値(文字列や配列)も比較できます。\n",
    "a < b   aがbより小さい\n",
    "a <= b  aがb以下\n",
    "a > b   aがbより大きい\n",
    "a >= b  aがb以上\n",
    "a == b  aがbと等しい\n",
    "\n",
    "論理演算子\n",
    "not a    aではない (aが否だと真)\n",
    "a and b  aかつb (aもbも真だと真)\n",
    "a or b   aまたはb (aまたはbが真で真)\n",
    "\n",
    "特殊\n",
    "a is b　aとbが完全一致している\n",
    "a in b  bは配列型。aがbに含まれている\n",
    "'''\n",
    "\n",
    "z = 0\n",
    "a = 1\n",
    "b = 2\n",
    "c = 3\n",
    "f = 1.0\n",
    "l = [1.0,2.0,3.0]\n",
    "\n",
    "print(a < b)\n",
    "print(a <= b)\n",
    "print(a > b)\n",
    "print(c >= b)\n",
    "print(a==b)\n",
    "\n",
    "print(not a)\n",
    "print(z and a)\n",
    "print(z or a)\n",
    "\n",
    "print(a is f) #isは完全一致なので、1と1.0は異なると判断されます\n",
    "print(a in l) #こちらは完全一致ではありません。1はリストlの中に入っているので真です"
   ]
  },
  {
   "cell_type": "markdown",
   "metadata": {},
   "source": [
    "ここで実際の使用例です"
   ]
  },
  {
   "cell_type": "code",
   "execution_count": 1,
   "metadata": {},
   "outputs": [
    {
     "name": "stdout",
     "output_type": "stream",
     "text": [
      "今は午後6時ではありません\n"
     ]
    }
   ],
   "source": [
    "'''\n",
    "例1: 現時刻が18時台ならコメントを残す\n",
    "'''\n",
    "from datetime import datetime\n",
    "\n",
    "jikan = datetime.now().hour\n",
    "\n",
    "if jikan==18:\n",
    "    print(\"今は午後6時です\")\n",
    "else:\n",
    "    print(\"今は午後6時ではありません\")"
   ]
  },
  {
   "cell_type": "code",
   "execution_count": 6,
   "metadata": {},
   "outputs": [
    {
     "name": "stdout",
     "output_type": "stream",
     "text": [
      "るは名前「はるか」に入っています\n"
     ]
    }
   ],
   "source": [
    "'''\n",
    "例2: 名前に特定の文字が入っているか判断する\n",
    "'''\n",
    "\n",
    "name = \"はるか\"\n",
    "\n",
    "if \"る\" in name:\n",
    "    print(\"るは名前「{0}」に入っています\".format(name))"
   ]
  },
  {
   "cell_type": "markdown",
   "metadata": {},
   "source": [
    "問題１: 例１を参考に、24時間制における現時刻の時間と分の合計が70以上なら3、60以上なら2、それ以下なら1と出力するコードを制作\n",
    "\n",
    "    参考: 分の取得方法は 「datetime.now().minute」です。\n",
    "    \n",
    "-----\n",
    "-----"
   ]
  },
  {
   "cell_type": "markdown",
   "metadata": {},
   "source": [
    "## 繰り返し処理\n",
    "様々な状況において繰り返し処理は重要になります。ここではPythonにおける繰り返し処理を学びましょう。\n",
    "\n",
    "初めに、for文です。for文は指定された回数だけ繰り返すものですが、Pythonでは配列またはそれに代わるものを対象として実行されます。\n",
    "そんな難しい事を言っていてもわからないと思うので例を挙げていきましょう。"
   ]
  },
  {
   "cell_type": "code",
   "execution_count": 7,
   "metadata": {},
   "outputs": [
    {
     "name": "stdout",
     "output_type": "stream",
     "text": [
      "1\n",
      "2\n",
      "3\n",
      "4\n",
      "5\n"
     ]
    }
   ],
   "source": [
    "'''\n",
    "for文の書き方は以下の通りです。\n",
    "\n",
    "for (変数名) in (配列系オブジェクト):\n",
    "    (コード)\n",
    "\n",
    "(変数名): 自分の好きな変数名を入力\n",
    "(配列系オブジェクト): List, Tuple, Range, Array or Set: 繰り返す対象を設置\n",
    "(コード): 配列に対して実行したい内容を記述。インデントで下げることを忘れずに！\n",
    "\n",
    "[1,2,3,4,5]という配列の要素がそれぞれ初めに指定されている i という変数に格納されて要素すべてについて内部の処理が実行されます\n",
    "[\n",
    "    1, 1回目に実行\n",
    "    2, 2回目に実行\n",
    "    3, 3回目に実行\n",
    "    4, 4回目に実行\n",
    "    5  5回目に実行\n",
    "]\n",
    "このように順番に実行されます。当然変数の名前やリストは自由です。\n",
    "'''\n",
    "\n",
    "for i in [1,2,3,4,5]:\n",
    "    print(i)"
   ]
  },
  {
   "cell_type": "code",
   "execution_count": 14,
   "metadata": {},
   "outputs": [
    {
     "name": "stdout",
     "output_type": "stream",
     "text": [
      "0\n",
      "2\n",
      "4\n",
      "6\n",
      "8\n"
     ]
    }
   ],
   "source": [
    "'''\n",
    "以下のようにrange()という関数を使うことで他の言語における通常のfor文の動作を実現できます。\n",
    "この用法が最も使われるので覚えておきましょう。\n",
    "\n",
    "range(starting number,ending number, step)\n",
    "\n",
    "    Starting Number(Optional): 最初の数字。記述しない場合は0から開始されます\n",
    "    Ending Number: 最後の数字。必ず記述せねばならず、この数値から1を引いた値が最後に代入されて終了します\n",
    "    Step(Optional): 数字ごとの数値的間隔です。2.5と記述すれば (0,2.5,5.0,7.5...)のようになります。ここには負の値も指定可能です\n",
    "    \n",
    "range(5) -> (0,1,2,3,4)\n",
    "range(6,10) -> (6,7,8,9)\n",
    "range(0,10,2) -> (0,2,4,6,8)\n",
    "\n",
    "'''\n",
    "\n",
    "for i in range(0,10,2):\n",
    "    print(i)"
   ]
  },
  {
   "cell_type": "markdown",
   "metadata": {},
   "source": [
    "次に、while文です。while文は条件が満たされている限り半永久的に内部のコードが実行されます。"
   ]
  },
  {
   "cell_type": "code",
   "execution_count": 10,
   "metadata": {},
   "outputs": [
    {
     "name": "stdout",
     "output_type": "stream",
     "text": [
      "1\n",
      "2\n",
      "3\n",
      "4\n",
      "5\n",
      "6\n",
      "7\n",
      "8\n",
      "9\n"
     ]
    }
   ],
   "source": [
    "'''\n",
    "while (条件):\n",
    "    (コード)\n",
    "   \n",
    "(条件): Bool: ループの実行に対する条件\n",
    "(コード): 繰り返し実行したい内容を記述。こちらもインデントを下げることを忘れずに！\n",
    "'''\n",
    "a = 1\n",
    "\n",
    "while a<10: #aが10より小さい限り実行\n",
    "    print(a) #aを出力\n",
    "    a+=1 #aに1を加算"
   ]
  },
  {
   "cell_type": "code",
   "execution_count": null,
   "metadata": {},
   "outputs": [],
   "source": [
    "'''\n",
    "例１: \n",
    "'''"
   ]
  }
 ],
 "metadata": {
  "kernelspec": {
   "display_name": "Python 3",
   "language": "python",
   "name": "python3"
  },
  "language_info": {
   "codemirror_mode": {
    "name": "ipython",
    "version": 3
   },
   "file_extension": ".py",
   "mimetype": "text/x-python",
   "name": "python",
   "nbconvert_exporter": "python",
   "pygments_lexer": "ipython3",
   "version": "3.6.5"
  }
 },
 "nbformat": 4,
 "nbformat_minor": 2
}
