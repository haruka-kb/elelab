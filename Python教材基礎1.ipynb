{
 "cells": [
  {
   "cell_type": "markdown",
   "metadata": {},
   "source": [
    "# Pythonに触れてみよう\n",
    "Pythonは使いやすい、拡張が多い、その他にも現代のコンピュータ処理において有利性を持つ言語です。研究や開発レベルでなく、学生生活における計算や作業程度にも大いに役立つこと間違いなしなのでその基本を学んでみましょう。\n",
    "\n",
    "\n",
    "## Hello World!!\n",
    "正直これはPythonでやる必要はまったくありませんが、ほかの言語と比較した時の優位性や簡単さを見るために試してみましょう。\n",
    "\n",
    "例えばC言語ではHello World!をするだけにもクラスを定義、main関数を定義してコンパイルしなければなりません。なぜこんな簡単な処理にそんな面倒な手順を踏まなければならないのか。Pythonでは1行です。"
   ]
  },
  {
   "cell_type": "code",
   "execution_count": 1,
   "metadata": {},
   "outputs": [
    {
     "name": "stdout",
     "output_type": "stream",
     "text": [
      "Hello World!\n"
     ]
    }
   ],
   "source": [
    "print(\"Hello World!\")"
   ]
  },
  {
   "cell_type": "markdown",
   "metadata": {},
   "source": [
    "## まずはPythonの書き方を解説\n",
    "Pythonでは***整理された書き方***をすることが決められています。ほかの言語をやったことある人ならばセミコロンを使う、括弧で区切るなどの方法を覚えていると思いますが、Pythonでは全く異なるので注意しましょう。\n",
    "\n",
    "まず、Pythonでは改行でコードの分かれ目を判断します。改行を忘れるとエラーとなってしまうので注意しましょう。"
   ]
  },
  {
   "cell_type": "code",
   "execution_count": 8,
   "metadata": {},
   "outputs": [
    {
     "name": "stdout",
     "output_type": "stream",
     "text": [
      "3\n"
     ]
    }
   ],
   "source": [
    "a = 1 #改行することで区切る\n",
    "b = 2\n",
    "\n",
    "print(a+b)"
   ]
  },
  {
   "cell_type": "markdown",
   "metadata": {},
   "source": []
  },
  {
   "cell_type": "markdown",
   "metadata": {},
   "source": [
    "## 簡単な計算をしてみる\n",
    "Pythonでの計算は基本的には他の言語と同じです。但し、指数の計算のみ**が使用されます。"
   ]
  },
  {
   "cell_type": "code",
   "execution_count": 5,
   "metadata": {},
   "outputs": [
    {
     "name": "stdout",
     "output_type": "stream",
     "text": [
      "[5, -1, 6, 0.6666666666666666, 1, 8]\n"
     ]
    }
   ],
   "source": [
    "a = 2\n",
    "b = 3\n",
    "\n",
    "c = a + b #加算\n",
    "d = a - b #減算\n",
    "e = a * b #乗算\n",
    "f = a / b #除算\n",
    "g = b % a #余剰\n",
    "h = a ** b #累乗\n",
    "\n",
    "print([c,d,e,f,g,h])"
   ]
  },
  {
   "cell_type": "markdown",
   "metadata": {},
   "source": [
    "#### 余談\n",
    "Pythonでは以下の方法で無限を定義できます。もしかしたら役立つときがくるかも？"
   ]
  },
  {
   "cell_type": "code",
   "execution_count": 4,
   "metadata": {},
   "outputs": [
    {
     "name": "stdout",
     "output_type": "stream",
     "text": [
      "inf\n",
      "-inf\n"
     ]
    }
   ],
   "source": [
    "u_inf = float(\"inf\")\n",
    "l_inf = float(\"-inf\")\n",
    "print(u_inf)\n",
    "print(l_inf)"
   ]
  },
  {
   "cell_type": "markdown",
   "metadata": {},
   "source": [
    "## 配列\n",
    "Pythonにおいて配列は多くのシチュエーションで使用されます。上手に活用できるようになるために配列の概念を学びましょう。"
   ]
  },
  {
   "cell_type": "code",
   "execution_count": null,
   "metadata": {},
   "outputs": [],
   "source": []
  },
  {
   "cell_type": "markdown",
   "metadata": {},
   "source": [
    "## 条件分岐\n",
    "プログラムにおいて条件分岐は最も重要なパートになる事間違いなしです。ここではPythonでの条件分岐の使用法を教えます。"
   ]
  },
  {
   "cell_type": "code",
   "execution_count": 1,
   "metadata": {},
   "outputs": [
    {
     "name": "stdout",
     "output_type": "stream",
     "text": [
      "aを満たしています\n"
     ]
    }
   ],
   "source": [
    "'''\n",
    "if (条件):\n",
    "    (コード)\n",
    "    \n",
    "(条件): Bool: 内部の実行に対する条件\n",
    "(コード): 条件を満たした際に実行したい内容\n",
    "'''\n",
    "a = 1\n",
    "\n",
    "if a:\n",
    "    print(\"aを満たしています\")"
   ]
  },
  {
   "cell_type": "markdown",
   "metadata": {},
   "source": [
    "次に教えるのは必要になるであろう条件(Boolean)の書き方です。様々な活用方法を見ていきましょう。"
   ]
  },
  {
   "cell_type": "code",
   "execution_count": 5,
   "metadata": {},
   "outputs": [
    {
     "name": "stdout",
     "output_type": "stream",
     "text": [
      "True\n",
      "True\n",
      "False\n",
      "True\n",
      "False\n",
      "False\n",
      "0\n",
      "1\n",
      "False\n",
      "True\n"
     ]
    }
   ],
   "source": [
    "'''\n",
    "Booleanはデータの形の一つで、真または否を示します。\n",
    "\n",
    "比較演算子、大なり小なりなどを意味します。Pythonにおいては非数値(文字列や配列)も比較できます。\n",
    "a < b   aがbより小さい\n",
    "a <= b  aがb以下\n",
    "a > b   aがbより大きい\n",
    "a >= b  aがb以上\n",
    "a == b  aがbと等しい\n",
    "\n",
    "論理演算子\n",
    "not a    aではない (aが否だと真)\n",
    "a and b  aかつb (aもbも真だと真)\n",
    "a or b   aまたはb (aまたはbが真で真)\n",
    "\n",
    "特殊\n",
    "a is b　aとbが完全一致している\n",
    "a in b  bは配列型。aがbに含まれている\n",
    "'''\n",
    "\n",
    "z = 0\n",
    "a = 1\n",
    "b = 2\n",
    "c = 3\n",
    "f = 1.0\n",
    "l = [1.0,2.0,3.0]\n",
    "\n",
    "print(a < b)\n",
    "print(a <= b)\n",
    "print(a > b)\n",
    "print(c >= b)\n",
    "print(a==b)\n",
    "\n",
    "print(not a)\n",
    "print(z and a)\n",
    "print(z or a)\n",
    "\n",
    "print(a is f) #isは完全一致なので、1と1.0は異なると判断されます\n",
    "print(a in l) #こちらは完全一致ではありません。1はリストlの中に入っているので真です"
   ]
  },
  {
   "cell_type": "markdown",
   "metadata": {},
   "source": [
    "## 繰り返し処理\n",
    "様々な状況において繰り返し処理は重要になります。ここではPythonにおける繰り返し処理を学びましょう。\n",
    "\n",
    "初めに、for文です。for文は指定された回数だけ繰り返すものですが、Pythonでは配列またはそれに代わるものを対象として実行されます。\n",
    "そんな難しい事を言っていてもわからないと思うので例を挙げていきましょう。"
   ]
  },
  {
   "cell_type": "code",
   "execution_count": 7,
   "metadata": {},
   "outputs": [
    {
     "name": "stdout",
     "output_type": "stream",
     "text": [
      "1\n",
      "2\n",
      "3\n",
      "4\n",
      "5\n"
     ]
    }
   ],
   "source": [
    "'''\n",
    "for文の書き方は以下の通りです。\n",
    "\n",
    "for (変数名) in (配列系オブジェクト):\n",
    "    (コード)\n",
    "\n",
    "(変数名): 自分の好きな変数名を入力\n",
    "(配列系オブジェクト): List, Tuple, Range, Array or Set: 繰り返す対象を設置\n",
    "(コード): 配列に対して実行したい内容を記述。インデントで下げることを忘れずに！\n",
    "\n",
    "[1,2,3,4,5]という配列の要素がそれぞれ初めに指定されている i という変数に格納されて要素すべてについて内部の処理が実行されます\n",
    "[\n",
    "    1, 1回目に実行\n",
    "    2, 2回目に実行\n",
    "    3, 3回目に実行\n",
    "    4, 4回目に実行\n",
    "    5  5回目に実行\n",
    "]\n",
    "このように順番に実行されます。当然変数の名前やリストは自由です。\n",
    "'''\n",
    "\n",
    "for i in [1,2,3,4,5]:\n",
    "    print(i)"
   ]
  },
  {
   "cell_type": "code",
   "execution_count": 14,
   "metadata": {},
   "outputs": [
    {
     "name": "stdout",
     "output_type": "stream",
     "text": [
      "0\n",
      "2\n",
      "4\n",
      "6\n",
      "8\n"
     ]
    }
   ],
   "source": [
    "'''\n",
    "以下のようにrange()という関数を使うことで他の言語における通常のfor文の動作を実現できます。\n",
    "この用法が最も使われるので覚えておきましょう。\n",
    "\n",
    "range(starting number,ending number, step)\n",
    "\n",
    "    Starting Number(Optional): 最初の数字。記述しない場合は0から開始されます\n",
    "    Ending Number: 最後の数字。必ず記述せねばならず、この数値から1を引いた値が最後に代入されて終了します\n",
    "    Step(Optional): 数字ごとの数値的間隔です。2.5と記述すれば (0,2.5,5.0,7.5...)のようになります。ここには負の値も指定可能です\n",
    "    \n",
    "range(5) -> (0,1,2,3,4)\n",
    "range(6,10) -> (6,7,8,9)\n",
    "range(0,10,2) -> (0,2,4,6,8)\n",
    "\n",
    "'''\n",
    "\n",
    "for i in range(0,10,2):\n",
    "    print(i)"
   ]
  },
  {
   "cell_type": "markdown",
   "metadata": {},
   "source": [
    "次に、while文です。while文は条件が満たされている限り半永久的に内部のコードが実行されます。"
   ]
  },
  {
   "cell_type": "code",
   "execution_count": 10,
   "metadata": {},
   "outputs": [
    {
     "name": "stdout",
     "output_type": "stream",
     "text": [
      "1\n",
      "2\n",
      "3\n",
      "4\n",
      "5\n",
      "6\n",
      "7\n",
      "8\n",
      "9\n"
     ]
    }
   ],
   "source": [
    "'''\n",
    "while (条件):\n",
    "    (コード)\n",
    "   \n",
    "(条件): Bool: ループの実行に対する条件\n",
    "(コード): 繰り返し実行したい内容を記述。こちらもインデントを下げることを忘れずに！\n",
    "'''\n",
    "a = 1\n",
    "\n",
    "while a<10: #aが10より小さい限り実行\n",
    "    print(a) #aを出力\n",
    "    a+=1 #aに1を加算"
   ]
  },
  {
   "cell_type": "code",
   "execution_count": null,
   "metadata": {},
   "outputs": [],
   "source": []
  }
 ],
 "metadata": {
  "kernelspec": {
   "display_name": "Python 3",
   "language": "python",
   "name": "python3"
  },
  "language_info": {
   "codemirror_mode": {
    "name": "ipython",
    "version": 3
   },
   "file_extension": ".py",
   "mimetype": "text/x-python",
   "name": "python",
   "nbconvert_exporter": "python",
   "pygments_lexer": "ipython3",
   "version": "3.6.5"
  }
 },
 "nbformat": 4,
 "nbformat_minor": 2
}
