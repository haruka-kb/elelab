{
 "cells": [
  {
   "cell_type": "markdown",
   "metadata": {},
   "source": [
    "# 基礎から多言語習得\n",
    "プログラマーとして生活してゆくうえで、現実世界で日本語と英語を習得しなければならないことと同様に、将来的には複数の言語を習得せねばなりません。この題目では、多言語習得を効率的に行うアプローチについて解説します。\n",
    "\n",
    "全てのプログラミング言語は1つや2つの言語から派生していった言わば「方言」です。それ故、ある言語の基本的な構文や要素を理解することは全ての言語の基礎の習得に繋がると考えてもよいでしょう。"
   ]
  },
  {
   "cell_type": "markdown",
   "metadata": {},
   "source": [
    "## 実用言語の種類と分類\n",
    "まず、実際にプログラミング言語の基礎的構文に入る前に漠然とした言語の分類については知る必要があります。この分類は記述する上での大きな特徴となり得るので必ず覚えておきましょう。この教材においては詳しい解説は省きます。\n",
    "\n",
    "### コンパイラ式言語\n",
    "コンパイラを用いる言語においては、人が記述したプログラムをコンパイラが機械語へ翻訳して実行可能な状態へ持ってゆきます。ここにおける機械語とはその機械が解読可能な言葉であり、例えばWindows10とMacOSでは異なります。これらの言語においてはコンパイルしなければ実行できないなどテストに手間を要する代わり、実行速度が速いことが特徴です。\n",
    "\n",
    "例: C C# C++など\n",
    "\n",
    "### インタプリタ式言語\n",
    "インタプリタを用いる言語においては、人が記述した言語をインタプリタが直接解釈実行します。これらの言語はその場でテストが可能など手間が少ない代わりに、一行ずつ解釈するため実行速度が遅い欠点があります。\n",
    "\n",
    "例: Java Pythonなど"
   ]
  },
  {
   "cell_type": "markdown",
   "metadata": {},
   "source": [
    "## プログラミング言語学習のアプローチ\n",
    "次に、プログラミング言語習得の流れについて解説してゆきます。\n",
    "\n",
    "### 環境の準備\n",
    "プログラミング言語は紙に鉛筆で書くわけではありません。使用する為の環境が必要となります。以下では代表的な環境、つまり必要となるソフトウェアなどを紹介します。\n",
    "\n",
    "1. コンパイラ\n",
    "    - GNU Compiler Collection (https://www.gnu.org/software/gcc/)\n",
    "    - Minimulist GNU (http://www.mingw.org/)\n",
    "2. IDE(Integrated Development Environment-統合開発環境)\n",
    "    - (Java,C,C++)Eclipse (https://www.eclipse.org/downloads/)\n",
    "    - (C++)Microsoft Visual C++ (https://support.microsoft.com/ja-jp/help/2977003/the-latest-supported-visual-c-downloads)\n",
    "    - (C,C++,C#)Microsoft Visual Studio* (https://visualstudio.microsoft.com/ja/)\n",
    "    - (Python,R)Anaconda (https://www.anaconda.com/)\n",
    "    - (C#,Java)Android Studio (https://developer.android.com/studio/install)\n",
    "    - (Swift)XCode (https://developer.apple.com/jp/xcode/)\n",
    "    - (PHP)PHPStorm (https://www.jetbrains.com/phpstorm/)\n",
    "    - (R)R for Windows (https://cran.r-project.org/bin/windows/base/)\n",
    "3. その他開発環境\n",
    "    - コーディング効率化\n",
    "        - Notepad++ (https://notepad-plus-plus.org/)\n",
    "        - Atom (https://atom.io/)\n",
    "        - Sublime (https://www.sublimetext.com/)\n",
    "    - ゲームエンジン(3Dエンジン)\n",
    "        - Unreal Engine 4** (https://www.unrealengine.com/ja/features)\n",
    "        - Godot Engine** (https://godotengine.org/)\n",
    "        - Unity (https://unity3d.com/get-unity/download)\n",
    "        - Panda3D (https://www.panda3d.org/)\n",
    "    - 周辺環境\n",
    "        - Git** (https://git-scm.com/)\n",
    "        - Github Desktop** (https://desktop.github.com/)\n",
    "    - オンライン実行環境\n",
    "        - Coding Ground (https://www.tutorialspoint.com/codingground.htm)\n",
    "\n",
    "*のついたソフトウェアは基本有料です\n",
    "\n",
    "**のついかソフトウェアは別途アカウント登録が必要です\n",
    "\n",
    "#### コンパイラ\n",
    "特定の言語を実行/テストするために必要となる対応したコンパイラです。導入は簡単でも使い方が癖があるものが多い印象があります。\n",
    "\n",
    "#### IDE\n",
    "IDE(統合開発環境)とはソフトウェア毎に決まった言語に対して実行、デバッグ、ライブラリ参照、コンパイルなど必要な全ての機能を集めたソフトウェアです。"
   ]
  },
  {
   "cell_type": "code",
   "execution_count": null,
   "metadata": {},
   "outputs": [],
   "source": []
  },
  {
   "cell_type": "code",
   "execution_count": null,
   "metadata": {},
   "outputs": [],
   "source": []
  },
  {
   "cell_type": "markdown",
   "metadata": {},
   "source": [
    "## リファレンス\n",
    "[1] 2007年01月26日-Gigazine Fortranから最新言語まで、約2500種類のプログラミング言語の系図 http://gigazine.net/news/20070126_computer_languages_history/"
   ]
  },
  {
   "cell_type": "code",
   "execution_count": null,
   "metadata": {},
   "outputs": [],
   "source": []
  }
 ],
 "metadata": {
  "kernelspec": {
   "display_name": "Python 3",
   "language": "python",
   "name": "python3"
  },
  "language_info": {
   "codemirror_mode": {
    "name": "ipython",
    "version": 3
   },
   "file_extension": ".py",
   "mimetype": "text/x-python",
   "name": "python",
   "nbconvert_exporter": "python",
   "pygments_lexer": "ipython3",
   "version": "3.6.5"
  }
 },
 "nbformat": 4,
 "nbformat_minor": 2
}
