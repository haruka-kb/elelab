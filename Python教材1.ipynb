{
 "cells": [
  {
   "cell_type": "markdown",
   "metadata": {},
   "source": [
    "# Python基礎講座\n",
    "## Pythonの基本構文\n",
    "Pythonの記述技法は他の言語と比較した時に少し特殊な書き方をしているかもしれません。\n",
    "これからPythonをどのように記述するかについて解説します。\n",
    "\n",
    "尚、今回の講座では内部の仕組みなどについてはすべてにおいて割愛させていただきます。"
   ]
  },
  {
   "cell_type": "markdown",
   "metadata": {},
   "source": [
    "### 文節\n",
    "Pythonは**改行コード**にてコードの切れ目を判断するため、どんな短い内容でも必ず改行しなければなりません。改行コードは目には見えませんが、データ上では文字として存在しているということを知っておくと理解が容易です。"
   ]
  },
  {
   "cell_type": "code",
   "execution_count": 16,
   "metadata": {},
   "outputs": [],
   "source": [
    "a = \"a\"\n",
    "b = \"b\"\n",
    "\n",
    "#ERROR\n",
    "# a = \"a\" b= \"b\""
   ]
  },
  {
   "cell_type": "markdown",
   "metadata": {},
   "source": [
    "### 階層指定\n",
    "Pythonにおいては**インデント(Tabキーで入力できるスペース数個分の空間)**にて階層が判断されます。\n",
    "階層指定は確実に行わないとコードの実行順序等がくるってしまう事があるので絶対です。\n",
    "また、if文など階層を分ける指示のスタートには **:** という記号を使用します。\n",
    "他の言語とは違い、括弧を使用せず、終了記号も必要ありません。"
   ]
  },
  {
   "cell_type": "code",
   "execution_count": 17,
   "metadata": {},
   "outputs": [
    {
     "name": "stdout",
     "output_type": "stream",
     "text": [
      "これはIF文の内側です\n"
     ]
    }
   ],
   "source": [
    "a = 1\n",
    "\n",
    "if a == 1:\n",
    "    print(\"これはIF文の内側です\")"
   ]
  },
  {
   "cell_type": "markdown",
   "metadata": {},
   "source": [
    "以下が正常に階層指定されていない例です。エラーが発生していますね"
   ]
  },
  {
   "cell_type": "code",
   "execution_count": 29,
   "metadata": {},
   "outputs": [
    {
     "name": "stdout",
     "output_type": "stream",
     "text": [
      "IF文の外側よりエラーとなります\n"
     ]
    }
   ],
   "source": [
    "a = 1\n",
    "\n",
    "#インデントを忘れているため、if文の範囲が判定されない\n",
    "#if a == 0:\n",
    "print(\"IF文の外側よりエラーとなります\")"
   ]
  },
  {
   "cell_type": "code",
   "execution_count": 24,
   "metadata": {},
   "outputs": [
    {
     "name": "stdout",
     "output_type": "stream",
     "text": [
      ": を忘れているためエラーが発生しています。\n"
     ]
    }
   ],
   "source": [
    "a = 1\n",
    "\n",
    "#階層分けの開始に必要な記号、 : が忘れられている\n",
    "#if a == 0\n",
    "print(\": を忘れているためエラーが発生しています。\")"
   ]
  },
  {
   "cell_type": "markdown",
   "metadata": {},
   "source": [
    "尚、短い内容の場合は1行へ圧縮することは可能とされています。"
   ]
  },
  {
   "cell_type": "code",
   "execution_count": 38,
   "metadata": {},
   "outputs": [
    {
     "name": "stdout",
     "output_type": "stream",
     "text": [
      "これはIF文の中です\n"
     ]
    }
   ],
   "source": [
    "a = 1\n",
    "\n",
    "if a == 1: print(\"これはIF文の中です\")"
   ]
  },
  {
   "cell_type": "markdown",
   "metadata": {},
   "source": [
    "複数の階層が存在する場合、その階層数だけインデントが必要です"
   ]
  },
  {
   "cell_type": "code",
   "execution_count": 19,
   "metadata": {},
   "outputs": [
    {
     "name": "stdout",
     "output_type": "stream",
     "text": [
      "bobはdanと同じです\n"
     ]
    }
   ],
   "source": [
    "#第0階層\n",
    "a = 0\n",
    "b = 1\n",
    "c = 2\n",
    "d = 1\n",
    "\n",
    "if b == 1:\n",
    "    #第1階層\n",
    "    if b == d:\n",
    "        #第2階層\n",
    "        print(\"bはdと同じです\")\n",
    "    elif a == 0:\n",
    "        #第3階層\n",
    "        print(\"bは1でaは0ですが、bはdと異なります\")"
   ]
  },
  {
   "cell_type": "markdown",
   "metadata": {},
   "source": [
    "### コメント文\n",
    "コメント文とはプログラム内に *認識されない部分* 、つまりはコメントを付けたり仕様を覚書するために存在する仕様です。これを上手に活用することにより誰にもわかりやすいプログラムが構築可能です。"
   ]
  },
  {
   "cell_type": "code",
   "execution_count": null,
   "metadata": {},
   "outputs": [],
   "source": [
    "a = 1\n",
    "\n",
    "#bobが1であれば内部を実行する\n",
    "if a == 1:\n",
    "    a+=1\n",
    "    print(\"aを数えます\")"
   ]
  },
  {
   "cell_type": "markdown",
   "metadata": {},
   "source": [
    "### まとめ\n",
    "- 一文ごとに必ず**改行**\n",
    "- if文などで階層ができる場合、**インデント**が階層分必要となる\n",
    "- 階層を分ける場合、開始点には**:**が必要\n",
    "- **#**が先頭にある一行はコメント文として認識され、実行時にはよまれない"
   ]
  },
  {
   "cell_type": "markdown",
   "metadata": {},
   "source": [
    "*****"
   ]
  },
  {
   "cell_type": "markdown",
   "metadata": {},
   "source": [
    "*****"
   ]
  },
  {
   "cell_type": "markdown",
   "metadata": {},
   "source": [
    "## Pythonの書き方に慣れる\n",
    "### 基本ルール\n",
    "PythonはcAsE_SeNSitiVEです。ケースセンシティブとは、つまり実行する際に英字の大文字小文字が区別されるということです。\n",
    "関数変数名などを定義する際に注意しましょう。"
   ]
  },
  {
   "cell_type": "code",
   "execution_count": 3,
   "metadata": {},
   "outputs": [
    {
     "name": "stdout",
     "output_type": "stream",
     "text": [
      "True\n",
      "False\n",
      "It's true\n",
      "It's false\n"
     ]
    }
   ],
   "source": [
    "CaseSensitive = True\n",
    "CASESENSITIVE = False\n",
    "casesensitive = \"It's true\"\n",
    "CASESENSiTiVE = \"It's false\"\n",
    "\n",
    "print(CaseSensitive)\n",
    "print(CASESENSITIVE)\n",
    "print(casesensitive)\n",
    "print(CASESENSiTiVE)"
   ]
  },
  {
   "cell_type": "markdown",
   "metadata": {},
   "source": [
    "以上の結果が示す通り、この4つの変数はすべて別のものとして扱われています。\n",
    "\n",
    "次に、命名に関係するルールです。基本的に名前は以下のルールを満たしている必要があります。\n",
    "\n",
    "- 頭一文字が **英字** または **_** ではじまる\n",
    "- 含まれるすべての文字は **英数字** または **_** である\n",
    "\n",
    "また、見やすさ読みやすさの概念から以下のような形が好まれます\n",
    "\n",
    "- camelCase\n",
    "- lower_separated_case\n",
    "- UPPER_SEPARATED_CASE"
   ]
  },
  {
   "cell_type": "code",
   "execution_count": 20,
   "metadata": {},
   "outputs": [],
   "source": [
    "#正しい例\n",
    "_bob = 1\n",
    "bob = 1\n",
    "bob_the_great = 1\n",
    "bob123 = 1\n",
    "\n",
    "#間違った例\n",
    "# 4bob = 1\n",
    "# ぼぶ = 1"
   ]
  },
  {
   "cell_type": "markdown",
   "metadata": {},
   "source": [
    "### Pythonにおける演算子\n",
    "まず、記述しなければならないことはPythonには***インクリメントとデクリメントは存在しません***。それを踏まえたうえで、Pythonで利用できる演算子について解説します。"
   ]
  },
  {
   "cell_type": "code",
   "execution_count": null,
   "metadata": {},
   "outputs": [],
   "source": [
    "a = 1\n",
    "\n",
    "#加算\n",
    "a+=1\n",
    "a=a+1\n",
    "\n",
    "#減算\n",
    "a-=1\n",
    "a=a-1\n",
    "\n",
    "#乗算\n",
    "a*=1\n",
    "a=a*1\n",
    "\n",
    "#除算\n",
    "a/=1\n",
    "a=a/1\n",
    "\n",
    "#余剰\n",
    "a%=2\n",
    "a=a%2\n",
    "\n",
    "#切捨除算\n",
    "a//=2\n",
    "a=a//2\n",
    "\n",
    "#累乗\n",
    "a**=2\n",
    "a=a**2"
   ]
  },
  {
   "cell_type": "markdown",
   "metadata": {},
   "source": [
    "累乗が^でなく**である点に注意してください。次に、比較演算子です。"
   ]
  },
  {
   "cell_type": "code",
   "execution_count": 60,
   "metadata": {},
   "outputs": [],
   "source": [
    "a=1\n",
    "b=2\n",
    "\n",
    "c = a==b\n",
    "c = a!=b\n",
    "c = a>=b\n",
    "c = a<=b\n",
    "c = a<b\n",
    "c = a>b"
   ]
  },
  {
   "cell_type": "markdown",
   "metadata": {},
   "source": [
    "以上の比較演算子はほかの言語における単純な比較演算子と内容はまったく同じです。次に、Python独特の比較演算子を紹介します。"
   ]
  },
  {
   "cell_type": "code",
   "execution_count": 61,
   "metadata": {},
   "outputs": [
    {
     "data": {
      "text/plain": [
       "False"
      ]
     },
     "execution_count": 61,
     "metadata": {},
     "output_type": "execute_result"
    }
   ],
   "source": [
    "a=1\n",
    "b=2\n",
    "c=[1,2,3]\n",
    "\n",
    "a is b #False\n",
    "a is not b #True\n",
    "a in c #True\n",
    "a not in c #False"
   ]
  },
  {
   "cell_type": "markdown",
   "metadata": {},
   "source": [
    "Pythonにおける***is***は***==***とは異なり、データオブジェクトを比較しています。それ故、かなり限られた環境で使用されるのが主です。"
   ]
  },
  {
   "cell_type": "code",
   "execution_count": 62,
   "metadata": {},
   "outputs": [
    {
     "data": {
      "text/plain": [
       "False"
      ]
     },
     "execution_count": 62,
     "metadata": {},
     "output_type": "execute_result"
    }
   ],
   "source": [
    "a=1\n",
    "b=True\n",
    "c=1.0\n",
    "\n",
    "a==b #True \n",
    "a is b #False これはBooleanとintegerで形が違うため\n",
    "a==c #True\n",
    "a is c #False これはintegerとfloatで形が違うため"
   ]
  },
  {
   "cell_type": "markdown",
   "metadata": {},
   "source": [
    "***in***は以下で説明するList Tuple Set Dict全ての配列型変数に使用できます。 "
   ]
  },
  {
   "cell_type": "code",
   "execution_count": 63,
   "metadata": {},
   "outputs": [
    {
     "data": {
      "text/plain": [
       "True"
      ]
     },
     "execution_count": 63,
     "metadata": {},
     "output_type": "execute_result"
    }
   ],
   "source": [
    "a=[\"a\",\"b\",\"c\"]\n",
    "b={\"a\",\"b\",\"c\"}\n",
    "c=(\"a\",\"b\",\"c\")\n",
    "d={\"a\":1,\"b\":2,\"c\":3}\n",
    "\n",
    "\"a\" in a #True\n",
    "\"a\" in b #True\n",
    "\"a\" in c #True\n",
    "\"a\" in d #True 辞書についてはキー側が参照されます"
   ]
  },
  {
   "cell_type": "markdown",
   "metadata": {},
   "source": [
    "### よく使用される用法\n",
    "Pythonではコードの見た目が良くなるように、また読んだ際に理解がしやすいような書き方をすることが可能です。ここでは頻出する、つまりは重要な用法について解説します。\n",
    "\n",
    "#### リストからの定義\n",
    "まず、Pythonではリスト型から直接変数を定義することができます。この方法を利用することで変数定義の行数を減らしたり、何らかの形で取得した定型リストを簡単に活用することが可能です。"
   ]
  },
  {
   "cell_type": "code",
   "execution_count": 65,
   "metadata": {},
   "outputs": [],
   "source": [
    "a,b = [1,2]\n",
    "\n",
    "list = [1,2,3,4,5,6]\n",
    "a,b,c,d,e,f = list"
   ]
  },
  {
   "cell_type": "markdown",
   "metadata": {},
   "source": [
    "#### 三項演算子\n",
    "Pythonにも三項演算子は存在しますが、他の言語とは使い方が全く違います。以下の例を参照してください。"
   ]
  },
  {
   "cell_type": "code",
   "execution_count": 64,
   "metadata": {},
   "outputs": [],
   "source": [
    "a = 1\n",
    "\n",
    "b = True if a==1 else False #True"
   ]
  },
  {
   "cell_type": "markdown",
   "metadata": {},
   "source": [
    "-----\n",
    "-----"
   ]
  },
  {
   "cell_type": "markdown",
   "metadata": {},
   "source": [
    "## スクリプト言語とデータの型\n",
    "あらゆるスクリプト形式の言語においては普通の型の言語と異なり変数には型が明記されていません。その為、処理を行う中でデータの型を把握することが時より重要になります。ここでは代表的な型とPythonにおける性質を説明します。\n",
    "\n",
    "Pythonでは型によって変更可能(mutable)なものと変更不可能(immutable)なものが存在します。"
   ]
  },
  {
   "cell_type": "code",
   "execution_count": 2,
   "metadata": {},
   "outputs": [
    {
     "name": "stdout",
     "output_type": "stream",
     "text": [
      "<class 'int'>\n",
      "<class 'float'>\n",
      "<class 'complex'>\n",
      "<class 'str'>\n",
      "<class 'list'>\n",
      "<class 'set'>\n",
      "<class 'dict'>\n",
      "<class 'bool'>\n",
      "<class 'tuple'>\n",
      "<class 'function'>\n",
      "<class '__main__.class1'>\n"
     ]
    }
   ],
   "source": [
    "print(type(1))\n",
    "print(type(1.0))\n",
    "print(type(1.0 + 1.0j))\n",
    "print(type(\"1\"))\n",
    "print(type([1]))\n",
    "print(type({1}))\n",
    "print(type({\"1\": 1}))\n",
    "print(type(True))\n",
    "print(type((1,1)))\n",
    "\n",
    "class class1:\n",
    "    \n",
    "    def __init__(self):\n",
    "        self.name = \"bob\"\n",
    "    \n",
    "def func1():\n",
    "    bob = 1\n",
    "\n",
    "print(type(func1))\n",
    "print(type(class1()))"
   ]
  },
  {
   "cell_type": "markdown",
   "metadata": {},
   "source": [
    "- スカラー量(int, float): 変更不可能\n",
    "\n",
    "基本的なスカラー量です。Pythonにおいてはスカラー量を使用する際、計算式やコマンドに応じてintやfloatなどの形式は自動的に変換されるため特別気に掛ける必要はありません。\n",
    "- 複素数(complex): 変更不可能\n",
    "\n",
    "数学論における複素数です。.realと.imagにて整数部分虚数部分を個別取得できます。\n",
    "- 文字列(str-String): 変更不可能\n",
    "\n",
    "Characterが配列されている型です。\n",
    "- リスト(List): 変更可能\n",
    "\n",
    "中に複数のオブジェクトが格納されている型です。Pythonにおいては内部のデータの書き換え等が可能なうえ、足し算などを通じた延長や変更が可能です。但し、後述する仕様に注意が必要です。\n",
    "- セット(set): 変更不可能\n",
    "\n",
    "セットはいわゆる数学論における集合です。つまり、同一要素を持つことができません。基本的な集合に関する計算がサポートされています。セット単体は変更不可能であることやクラス関数が少ないことより使い勝手が悪いです。\n",
    "- タプル(tuple): 変更不可能\n",
    "\n",
    "タプルは変更不可能なリストです。計算速度が速いのも特徴となっています。変更が一切不可能なので、一切変更を要さないデータの格納に使用されます。\n",
    "\n",
    "- 辞書型(dictionary)\n",
    "\n",
    "特定のキーに特定のオブジェクトを関連付けることで構成される型です。文字列を使用した言語のローカライズやデータ同士を関連付ける事に使用されますが、駆動が高速でないので使用する際の要件は確認しましょう。\n",
    "\n",
    "- 論理(boolean)\n",
    "\n",
    "TrueとFalseです。Pythonにおいては0と1という整数も正負として利用されますが、オブジェクトとして内部的には異なるので注意しましょう。\n",
    "\n",
    "- 関数(Function)\n",
    "\n",
    "後述\n",
    "\n",
    "#### Pythonでの配列についてもう少し\n",
    "他の言語では配列に異なる型のデータや異なる次元のデータを格納することはできませんが、Pythonでは可能です。"
   ]
  },
  {
   "cell_type": "code",
   "execution_count": 67,
   "metadata": {},
   "outputs": [],
   "source": [
    "a = [1,\"a\",True]\n",
    "\n",
    "#様々な種類の配列を配列に格納することも…\n",
    "b = [1,2,[1,2],(1,2),{1,2}]"
   ]
  },
  {
   "cell_type": "markdown",
   "metadata": {},
   "source": [
    "-----\n",
    "-----"
   ]
  },
  {
   "cell_type": "markdown",
   "metadata": {},
   "source": [
    "### Pythonを上手に活用する\n",
    "Python独特の用法をこれまでで多く紹介してきましたが、以降ではこれの上手な活用法、というよりは頻出する用法について解説します。"
   ]
  },
  {
   "cell_type": "code",
   "execution_count": 18,
   "metadata": {},
   "outputs": [
    {
     "name": "stdout",
     "output_type": "stream",
     "text": [
      "[2, 3, 4, 5, 6, 7]\n",
      "[6, 15, 24]\n",
      "[4, 9, 2, 8, 5, 4, 9, 2, 4, 7, 5, 5, 6, 1, 0]\n",
      "2\n",
      "4\n",
      "8\n"
     ]
    }
   ],
   "source": [
    "#配列の変換\n",
    "sc = [x+1 for x in [1,2,3,4,5,6]]\n",
    "print(sc)\n",
    "sx = [sum(x) for x in [[1,2,3],[4,5,6],[7,8,9]]]\n",
    "print(sx)\n",
    "\n",
    "#文字列の展開\n",
    "ar = [int(x) for x in \"492854924755610\"]\n",
    "print(ar)\n",
    "\n",
    "a, b, c = [int(x) for x in \"248\"]\n",
    "print(a)\n",
    "print(b)\n",
    "print(c)"
   ]
  },
  {
   "cell_type": "markdown",
   "metadata": {},
   "source": [
    "この用法は***配列をまとめて変換***または***文字列を展開***するために使用されます。但し、***実行できるのは1行分***という制限が存在しているので細かい作業を一行にまとめる為に使用されることがほとんどです。"
   ]
  },
  {
   "cell_type": "code",
   "execution_count": null,
   "metadata": {},
   "outputs": [],
   "source": []
  }
 ],
 "metadata": {
  "kernelspec": {
   "display_name": "Python 3",
   "language": "python",
   "name": "python3"
  },
  "language_info": {
   "codemirror_mode": {
    "name": "ipython",
    "version": 3
   },
   "file_extension": ".py",
   "mimetype": "text/x-python",
   "name": "python",
   "nbconvert_exporter": "python",
   "pygments_lexer": "ipython3",
   "version": "3.6.5"
  }
 },
 "nbformat": 4,
 "nbformat_minor": 2
}
